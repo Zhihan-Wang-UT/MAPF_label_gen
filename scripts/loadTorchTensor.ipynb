{
 "cells": [
  {
   "cell_type": "code",
   "execution_count": 1,
   "metadata": {},
   "outputs": [],
   "source": [
    "import torch\n",
    "import numpy as np\n",
    "\n"
   ]
  },
  {
   "cell_type": "code",
   "execution_count": 2,
   "metadata": {},
   "outputs": [
    {
     "name": "stderr",
     "output_type": "stream",
     "text": [
      "Matplotlib is building the font cache; this may take a moment.\n"
     ]
    }
   ],
   "source": [
    "import matplotlib.pyplot as plt\n",
    "from PIL import Image\n",
    "def tensor2d_to_image(tensor2d, magnify = 1, brighter = 0):\n",
    "    array2d = tensor2d.numpy()\n",
    "    max  = np.max(array2d)\n",
    "    brighten = (255//max) if brighter == 0 else brighter\n",
    "    img = Image.fromarray(array2d * brighten)\n",
    "    img = img.resize((tensor2d.shape[0]*magnify, tensor2d.shape[1]*magnify))\n",
    "    # img.transform((320,320),Image.EXTENT)\n",
    "    img.show()"
   ]
  },
  {
   "cell_type": "code",
   "execution_count": null,
   "metadata": {},
   "outputs": [
    {
     "data": {
      "text/plain": [
       "32"
      ]
     },
     "execution_count": 17,
     "metadata": {},
     "output_type": "execute_result"
    }
   ],
   "source": [
    "a.shape[0]"
   ]
  },
  {
   "cell_type": "code",
   "execution_count": null,
   "metadata": {},
   "outputs": [],
   "source": [
    "def torch_name_helper(scen, n, feature):\n",
    "    # 0subPathColl\n",
    "    # 1subPathColl\n",
    "    # 2subPathColl\n",
    "    # goalLoc\n",
    "    # obstacle\n",
    "    # singlePathHeat\n",
    "    # startLoc\n",
    "    return f'tensorgen_out/tensors_20220313/{scen}/{n}/{scen}_{n}_{feature}.pt'\n"
   ]
  },
  {
   "cell_type": "code",
   "execution_count": 10,
   "metadata": {},
   "outputs": [
    {
     "data": {
      "image/png": "[encoded data removed]",
      "text/plain": [
       "<PIL.Image.Image image mode=L size=160x160 at 0x7F5A36A42EB0>"
      ]
     },
     "metadata": {},
     "output_type": "display_data"
    }
   ],
   "source": [
    "# torch.load('build/my_tensor.pt')\n",
    "# torch.load('build/my_tensor.pt')\n",
    "# 'tensorgen_out/tensors_20220313/maze-32-32-4-even-14/100/maze-32-32-4-even-14_100_0subPathColl.pt'\n",
    "# a = torch.load(torch_name_helper(\"maze-128-128-2-even-21\",200,\"goalLoc\"))\n",
    "# a = torch.load(torch_name_helper(\"maze-128-128-2-even-21\",200,\"obstacle\"))\n",
    "# a = torch.load(torch_name_helper(\"maze-128-128-2-even-21\",200,\"startLoc\"))\n",
    "# a = torch.load(torch_name_helper(\"maze-128-128-2-even-21\",200,\"singlePathHeat\"))\n",
    "# a = torch.load(torch_name_helper(\"maze-128-128-2-even-21\",200,\"0subPathColl\"))\n",
    "# a = torch.load(torch_name_helper(\"maze-128-128-2-even-21\",200,\"1subPathColl\"))\n",
    "# a = torch.load(\"/home/ubuntu/MAPF/MAPF_label_gen/tensorgen_out/tensors_20220512/empty-16-16-even-19/10/empty-16-16-even-19_10_2subPathColl.pt\")\n",
    "b = torch.load(\"/home/ubuntu/MAPF/clusterLabelGen/tensorgen_out/tensors_20220601/empty-16-16-random-16/10/empty-16-16-random-16_10_2subPathStack.pt\")\n",
    "# c = torch.load(\"/home/ubuntu/MAPF/MAPF_label_gen/tensorgen_out/tensors_20220512/empty-16-16-even-19/70/empty-16-16-even-19_70_2subPathColl.pt\")\n",
    "# d = torch.load(\"/home/ubuntu/MAPF/MAPF_label_gen/tensorgen_out/tensors_20220512/empty-16-16-even-19/70/empty-16-16-even-19_70_0subPathColl.pt\")\n",
    "\n",
    "tensor2d_to_image(b,10,10)"
   ]
  },
  {
   "cell_type": "code",
   "execution_count": 32,
   "metadata": {},
   "outputs": [
    {
     "data": {
      "image/png": "[encoded data removed]",
      "text/plain": [
       "<PIL.Image.Image image mode=L size=160x160 at 0x7F1E277A0760>"
      ]
     },
     "metadata": {},
     "output_type": "display_data"
    }
   ],
   "source": [
    "tensor2d_to_image(a,10,10)"
   ]
  },
  {
   "cell_type": "code",
   "execution_count": 35,
   "metadata": {},
   "outputs": [
    {
     "data": {
      "image/png": "[encoded data removed]",
      "text/plain": [
       "<PIL.Image.Image image mode=L size=160x160 at 0x7F1E277A0FA0>"
      ]
     },
     "metadata": {},
     "output_type": "display_data"
    }
   ],
   "source": [
    "tensor2d_to_image(c,10,10)"
   ]
  },
  {
   "cell_type": "code",
   "execution_count": 15,
   "metadata": {},
   "outputs": [
    {
     "ename": "FileNotFoundError",
     "evalue": "[Errno 2] No such file or directory: 'tensorgen_out/tensors_20220313/maze-32-32-4-even-14/200/maze-32-32-4-even-14_200_2subPathColl.pt'",
     "output_type": "error",
     "traceback": [
      "\u001b[0;31m---------------------------------------------------------------------------\u001b[0m",
      "\u001b[0;31mFileNotFoundError\u001b[0m                         Traceback (most recent call last)",
      "\u001b[0;32m/tmp/ipykernel_24495/4060536946.py\u001b[0m in \u001b[0;36m<module>\u001b[0;34m\u001b[0m\n\u001b[0;32m----> 1\u001b[0;31m \u001b[0mtorch\u001b[0m\u001b[0;34m.\u001b[0m\u001b[0mload\u001b[0m\u001b[0;34m(\u001b[0m\u001b[0;34m'tensorgen_out/tensors_20220313/maze-32-32-4-even-14/200/maze-32-32-4-even-14_200_2subPathColl.pt'\u001b[0m\u001b[0;34m)\u001b[0m\u001b[0;34m\u001b[0m\u001b[0;34m\u001b[0m\u001b[0m\n\u001b[0m",
      "\u001b[0;32m~/anaconda3/envs/pytorch_p38/lib/python3.8/site-packages/torch/serialization.py\u001b[0m in \u001b[0;36mload\u001b[0;34m(f, map_location, pickle_module, **pickle_load_args)\u001b[0m\n\u001b[1;32m    592\u001b[0m         \u001b[0mpickle_load_args\u001b[0m\u001b[0;34m[\u001b[0m\u001b[0;34m'encoding'\u001b[0m\u001b[0;34m]\u001b[0m \u001b[0;34m=\u001b[0m \u001b[0;34m'utf-8'\u001b[0m\u001b[0;34m\u001b[0m\u001b[0;34m\u001b[0m\u001b[0m\n\u001b[1;32m    593\u001b[0m \u001b[0;34m\u001b[0m\u001b[0m\n\u001b[0;32m--> 594\u001b[0;31m     \u001b[0;32mwith\u001b[0m \u001b[0m_open_file_like\u001b[0m\u001b[0;34m(\u001b[0m\u001b[0mf\u001b[0m\u001b[0;34m,\u001b[0m \u001b[0;34m'rb'\u001b[0m\u001b[0;34m)\u001b[0m \u001b[0;32mas\u001b[0m \u001b[0mopened_file\u001b[0m\u001b[0;34m:\u001b[0m\u001b[0;34m\u001b[0m\u001b[0;34m\u001b[0m\u001b[0m\n\u001b[0m\u001b[1;32m    595\u001b[0m         \u001b[0;32mif\u001b[0m \u001b[0m_is_zipfile\u001b[0m\u001b[0;34m(\u001b[0m\u001b[0mopened_file\u001b[0m\u001b[0;34m)\u001b[0m\u001b[0;34m:\u001b[0m\u001b[0;34m\u001b[0m\u001b[0;34m\u001b[0m\u001b[0m\n\u001b[1;32m    596\u001b[0m             \u001b[0;31m# The zipfile reader is going to advance the current file position.\u001b[0m\u001b[0;34m\u001b[0m\u001b[0;34m\u001b[0m\u001b[0;34m\u001b[0m\u001b[0m\n",
      "\u001b[0;32m~/anaconda3/envs/pytorch_p38/lib/python3.8/site-packages/torch/serialization.py\u001b[0m in \u001b[0;36m_open_file_like\u001b[0;34m(name_or_buffer, mode)\u001b[0m\n\u001b[1;32m    228\u001b[0m \u001b[0;32mdef\u001b[0m \u001b[0m_open_file_like\u001b[0m\u001b[0;34m(\u001b[0m\u001b[0mname_or_buffer\u001b[0m\u001b[0;34m,\u001b[0m \u001b[0mmode\u001b[0m\u001b[0;34m)\u001b[0m\u001b[0;34m:\u001b[0m\u001b[0;34m\u001b[0m\u001b[0;34m\u001b[0m\u001b[0m\n\u001b[1;32m    229\u001b[0m     \u001b[0;32mif\u001b[0m \u001b[0m_is_path\u001b[0m\u001b[0;34m(\u001b[0m\u001b[0mname_or_buffer\u001b[0m\u001b[0;34m)\u001b[0m\u001b[0;34m:\u001b[0m\u001b[0;34m\u001b[0m\u001b[0;34m\u001b[0m\u001b[0m\n\u001b[0;32m--> 230\u001b[0;31m         \u001b[0;32mreturn\u001b[0m \u001b[0m_open_file\u001b[0m\u001b[0;34m(\u001b[0m\u001b[0mname_or_buffer\u001b[0m\u001b[0;34m,\u001b[0m \u001b[0mmode\u001b[0m\u001b[0;34m)\u001b[0m\u001b[0;34m\u001b[0m\u001b[0;34m\u001b[0m\u001b[0m\n\u001b[0m\u001b[1;32m    231\u001b[0m     \u001b[0;32melse\u001b[0m\u001b[0;34m:\u001b[0m\u001b[0;34m\u001b[0m\u001b[0;34m\u001b[0m\u001b[0m\n\u001b[1;32m    232\u001b[0m         \u001b[0;32mif\u001b[0m \u001b[0;34m'w'\u001b[0m \u001b[0;32min\u001b[0m \u001b[0mmode\u001b[0m\u001b[0;34m:\u001b[0m\u001b[0;34m\u001b[0m\u001b[0;34m\u001b[0m\u001b[0m\n",
      "\u001b[0;32m~/anaconda3/envs/pytorch_p38/lib/python3.8/site-packages/torch/serialization.py\u001b[0m in \u001b[0;36m__init__\u001b[0;34m(self, name, mode)\u001b[0m\n\u001b[1;32m    209\u001b[0m \u001b[0;32mclass\u001b[0m \u001b[0m_open_file\u001b[0m\u001b[0;34m(\u001b[0m\u001b[0m_opener\u001b[0m\u001b[0;34m)\u001b[0m\u001b[0;34m:\u001b[0m\u001b[0;34m\u001b[0m\u001b[0;34m\u001b[0m\u001b[0m\n\u001b[1;32m    210\u001b[0m     \u001b[0;32mdef\u001b[0m \u001b[0m__init__\u001b[0m\u001b[0;34m(\u001b[0m\u001b[0mself\u001b[0m\u001b[0;34m,\u001b[0m \u001b[0mname\u001b[0m\u001b[0;34m,\u001b[0m \u001b[0mmode\u001b[0m\u001b[0;34m)\u001b[0m\u001b[0;34m:\u001b[0m\u001b[0;34m\u001b[0m\u001b[0;34m\u001b[0m\u001b[0m\n\u001b[0;32m--> 211\u001b[0;31m         \u001b[0msuper\u001b[0m\u001b[0;34m(\u001b[0m\u001b[0m_open_file\u001b[0m\u001b[0;34m,\u001b[0m \u001b[0mself\u001b[0m\u001b[0;34m)\u001b[0m\u001b[0;34m.\u001b[0m\u001b[0m__init__\u001b[0m\u001b[0;34m(\u001b[0m\u001b[0mopen\u001b[0m\u001b[0;34m(\u001b[0m\u001b[0mname\u001b[0m\u001b[0;34m,\u001b[0m \u001b[0mmode\u001b[0m\u001b[0;34m)\u001b[0m\u001b[0;34m)\u001b[0m\u001b[0;34m\u001b[0m\u001b[0;34m\u001b[0m\u001b[0m\n\u001b[0m\u001b[1;32m    212\u001b[0m \u001b[0;34m\u001b[0m\u001b[0m\n\u001b[1;32m    213\u001b[0m     \u001b[0;32mdef\u001b[0m \u001b[0m__exit__\u001b[0m\u001b[0;34m(\u001b[0m\u001b[0mself\u001b[0m\u001b[0;34m,\u001b[0m \u001b[0;34m*\u001b[0m\u001b[0margs\u001b[0m\u001b[0;34m)\u001b[0m\u001b[0;34m:\u001b[0m\u001b[0;34m\u001b[0m\u001b[0;34m\u001b[0m\u001b[0m\n",
      "\u001b[0;31mFileNotFoundError\u001b[0m: [Errno 2] No such file or directory: 'tensorgen_out/tensors_20220313/maze-32-32-4-even-14/200/maze-32-32-4-even-14_200_2subPathColl.pt'"
     ]
    }
   ],
   "source": [
    "torch.load('tensorgen_out/tensors_20220313/maze-32-32-4-even-14/200/maze-32-32-4-even-14_200_2subPathColl.pt')"
   ]
  },
  {
   "cell_type": "code",
   "execution_count": null,
   "metadata": {},
   "outputs": [
    {
     "data": {
      "text/plain": [
       "torch.Size([256, 256])"
      ]
     },
     "execution_count": 5,
     "metadata": {},
     "output_type": "execute_result"
    }
   ],
   "source": [
    "a = torch.load('../tmp/tensors_20220307_conti/brc_10.pt')\n",
    "a.shape\n",
    "a[0],a[2]\n",
    "a[-2].shape"
   ]
  },
  {
   "cell_type": "code",
   "execution_count": null,
   "metadata": {},
   "outputs": [
    {
     "data": {
      "text/plain": [
       "41"
      ]
     },
     "execution_count": 27,
     "metadata": {},
     "output_type": "execute_result"
    }
   ],
   "source": [
    "np.max(a[-2].numpy())"
   ]
  },
  {
   "cell_type": "code",
   "execution_count": null,
   "metadata": {},
   "outputs": [
    {
     "data": {
      "text/plain": [
       "array([[0, 0, 0, ..., 0, 0, 0],\n",
       "       [0, 0, 0, ..., 0, 0, 0],\n",
       "       [0, 0, 0, ..., 0, 0, 0],\n",
       "       ...,\n",
       "       [0, 0, 0, ..., 0, 0, 0],\n",
       "       [0, 0, 0, ..., 0, 0, 0],\n",
       "       [0, 0, 0, ..., 0, 0, 0]], dtype=int32)"
      ]
     },
     "execution_count": 25,
     "metadata": {},
     "output_type": "execute_result"
    }
   ],
   "source": [
    "np.set_printoptions(threshold=100)\n",
    "\n",
    "with np.printoptions(threshold=np.inf):\n",
    "    print(np.arr)"
   ]
  },
  {
   "cell_type": "code",
   "execution_count": null,
   "metadata": {},
   "outputs": [
    {
     "data": {
      "text/plain": [
       "(256, 256)"
      ]
     },
     "execution_count": 28,
     "metadata": {},
     "output_type": "execute_result"
    }
   ],
   "source": [
    "tensor_image.numpy().shape"
   ]
  },
  {
   "cell_type": "code",
   "execution_count": null,
   "metadata": {},
   "outputs": [
    {
     "data": {
      "image/png": "[encoded data removed]",
      "text/plain": [
       "<PIL.Image.Image image mode=L size=256x256 at 0x7F8D0A2AAF10>"
      ]
     },
     "metadata": {},
     "output_type": "display_data"
    }
   ],
   "source": [
    "a = torch.load('../tmp/tensors_20220307_conti/Berlin_1_256-even-20_50.pt')\n",
    "tensor2d_to_image(a[-1])\n"
   ]
  },
  {
   "cell_type": "code",
   "execution_count": null,
   "metadata": {},
   "outputs": [
    {
     "data": {
      "image/png": "[encoded data removed]",
      "text/plain": [
       "<PIL.Image.Image image mode=L size=256x256 at 0x7F8D0A2AAA90>"
      ]
     },
     "metadata": {},
     "output_type": "display_data"
    }
   ],
   "source": [
    "a = torch.load('../tmp/tensors_20220306/Berlin_1_256-even-20_50.pt')\n",
    "tensor2d_to_image(a[-1])"
   ]
  },
  {
   "cell_type": "code",
   "execution_count": null,
   "metadata": {},
   "outputs": [],
   "source": [
    "import matplotlib.pyplot as plt\n",
    "from PIL import Image\n",
    "def tensor2d_to_image(tensor2d):\n",
    "    array2d = tensor2d.numpy()\n",
    "    max  = np.max(array2d)\n",
    "    img = Image.fromarray(array2d * (255//max))\n",
    "    img.show()\n",
    "\n",
    "# tensor2d_to_image(a[-1]),tensor2d_to_image(a[-2]),tensor2d_to_image(a[-3])\n",
    "\n",
    "# tensor_image = a[-2]*\n",
    "# img = Image.fromarray(tensor_image.numpy())\n",
    "# img.show()"
   ]
  },
  {
   "cell_type": "code",
   "execution_count": null,
   "metadata": {},
   "outputs": [
    {
     "data": {
      "image/png": "[encoded data removed]",
      "text/plain": [
       "<PIL.Image.Image image mode=L size=256x256 at 0x7F8AA7DB7F40>"
      ]
     },
     "metadata": {},
     "output_type": "display_data"
    },
    {
     "data": {
      "image/png": "[encoded data removed]",
      "text/plain": [
       "<PIL.Image.Image image mode=L size=256x256 at 0x7F8AA7DB7AC0>"
      ]
     },
     "metadata": {},
     "output_type": "display_data"
    },
    {
     "data": {
      "image/png": "[encoded data removed]",
      "text/plain": [
       "<PIL.Image.Image image mode=L size=256x256 at 0x7F8AA7DB7AC0>"
      ]
     },
     "metadata": {},
     "output_type": "display_data"
    },
    {
     "data": {
      "image/png": "[encoded data removed]",
      "text/plain": [
       "<PIL.Image.Image image mode=L size=256x256 at 0x7F8AA7DB7AC0>"
      ]
     },
     "metadata": {},
     "output_type": "display_data"
    },
    {
     "data": {
      "image/png": "[encoded data removed]",
      "text/plain": [
       "<PIL.Image.Image image mode=L size=256x256 at 0x7F8AA7DB7AC0>"
      ]
     },
     "metadata": {},
     "output_type": "display_data"
    },
    {
     "data": {
      "text/plain": [
       "(None, None, None, None, None)"
      ]
     },
     "execution_count": 42,
     "metadata": {},
     "output_type": "execute_result"
    }
   ],
   "source": [
    "tensor2d_to_image(a[0]),tensor2d_to_image(a[1]),tensor2d_to_image(a[2]),tensor2d_to_image(a[3]),tensor2d_to_image(a[4])"
   ]
  },
  {
   "cell_type": "code",
   "execution_count": null,
   "metadata": {},
   "outputs": [],
   "source": []
  },
  {
   "cell_type": "code",
   "execution_count": null,
   "metadata": {},
   "outputs": [
    {
     "data": {
      "text/plain": [
       "tensor([[[ 3,  2,  0,  2,  2,  0,  0,  2],\n",
       "         [ 5,  4,  4,  0,  0,  2,  2,  2],\n",
       "         [ 7, 10,  3,  0,  2,  2,  2,  2],\n",
       "         [ 6,  7,  4,  2,  2,  4,  4,  3],\n",
       "         [ 3,  4,  6,  7,  3,  5,  8,  5],\n",
       "         [ 5,  6,  8,  6,  6,  4,  5,  6],\n",
       "         [ 6,  6,  5,  6,  5,  6,  5,  3],\n",
       "         [ 4,  3,  4,  6,  6,  5,  4,  2]],\n",
       "\n",
       "        [[ 1,  2,  0,  0,  0,  1,  2,  1],\n",
       "         [ 2,  2,  0,  0,  1,  0,  1,  1],\n",
       "         [ 1,  1,  1,  0,  1,  0,  1,  1],\n",
       "         [ 1,  0,  0,  0,  1,  0,  1,  0],\n",
       "         [ 1,  1,  0,  0,  2,  1,  2,  1],\n",
       "         [ 0,  2,  1,  1,  2,  1,  1,  2],\n",
       "         [ 0,  2,  0,  0,  1,  0,  0,  2],\n",
       "         [ 0,  2,  2,  2,  1,  1,  0,  1]]], dtype=torch.int32)"
      ]
     },
     "execution_count": 6,
     "metadata": {},
     "output_type": "execute_result"
    }
   ],
   "source": [
    "a = torch.load('build/datagen4.pt')\n",
    "a.shape\n",
    "a[0],a[2]\n",
    "a[-2:]"
   ]
  },
  {
   "cell_type": "code",
   "execution_count": null,
   "metadata": {},
   "outputs": [
    {
     "data": {
      "text/plain": [
       "tensor([[ 4,  8,  1,  7, 14, 13, 12, 10],\n",
       "        [11, 10, 16, 14, 18, 25, 19, 23],\n",
       "        [13, 17, 16, 27, 33, 29, 34, 26],\n",
       "        [12, 18, 30, 33, 34, 40, 35, 29],\n",
       "        [ 9, 17, 54, 38, 31, 36, 41, 30],\n",
       "        [12, 45, 31, 48, 35, 32, 33, 25],\n",
       "        [17, 29, 29, 29, 37, 32, 23, 17],\n",
       "        [15, 16, 23, 25, 26, 24, 24, 14]], dtype=torch.int32)"
      ]
     },
     "execution_count": 52,
     "metadata": {},
     "output_type": "execute_result"
    }
   ],
   "source": [
    "a[-1]"
   ]
  },
  {
   "cell_type": "code",
   "execution_count": null,
   "metadata": {},
   "outputs": [
    {
     "data": {
      "text/plain": [
       "tensor([[0, 1, 0, 0, 0, 0, 1, 1],\n",
       "        [1, 0, 0, 0, 0, 0, 1, 0],\n",
       "        [0, 1, 0, 0, 1, 0, 1, 1],\n",
       "        [0, 1, 0, 1, 1, 1, 1, 1],\n",
       "        [1, 1, 0, 0, 1, 0, 0, 0],\n",
       "        [0, 0, 1, 0, 1, 1, 0, 1],\n",
       "        [0, 1, 1, 0, 1, 1, 1, 1],\n",
       "        [0, 1, 1, 1, 0, 0, 0, 1]], dtype=torch.int32)"
      ]
     },
     "execution_count": 36,
     "metadata": {},
     "output_type": "execute_result"
    }
   ],
   "source": [
    "a[1]"
   ]
  },
  {
   "cell_type": "code",
   "execution_count": null,
   "metadata": {},
   "outputs": [
    {
     "data": {
      "text/plain": [
       "tensor([[1, 0, 1, 1, 1, 1, 0, 0],\n",
       "        [0, 1, 1, 1, 1, 1, 0, 1],\n",
       "        [1, 0, 1, 1, 0, 1, 0, 0],\n",
       "        [1, 0, 1, 0, 0, 0, 0, 0],\n",
       "        [0, 0, 1, 1, 0, 1, 1, 1],\n",
       "        [1, 1, 0, 1, 0, 0, 1, 0],\n",
       "        [1, 0, 0, 1, 0, 0, 0, 0],\n",
       "        [1, 0, 0, 0, 1, 1, 1, 0]], dtype=torch.int32)"
      ]
     },
     "execution_count": 37,
     "metadata": {},
     "output_type": "execute_result"
    }
   ],
   "source": [
    "a[2]"
   ]
  },
  {
   "cell_type": "code",
   "execution_count": null,
   "metadata": {},
   "outputs": [
    {
     "data": {
      "text/plain": [
       "tensor([[0, 0, 0, 0, 0, 0, 0, 0],\n",
       "        [0, 0, 0, 0, 0, 0, 0, 0],\n",
       "        [0, 0, 0, 0, 0, 0, 0, 0],\n",
       "        [0, 0, 0, 0, 0, 0, 0, 0],\n",
       "        [0, 0, 0, 0, 0, 0, 0, 0],\n",
       "        [0, 0, 0, 0, 0, 0, 0, 0],\n",
       "        [0, 0, 0, 0, 0, 0, 0, 0],\n",
       "        [0, 0, 0, 0, 0, 0, 0, 0]], dtype=torch.int32)"
      ]
     },
     "execution_count": 38,
     "metadata": {},
     "output_type": "execute_result"
    }
   ],
   "source": [
    "a[3]"
   ]
  },
  {
   "cell_type": "code",
   "execution_count": null,
   "metadata": {},
   "outputs": [
    {
     "data": {
      "text/plain": [
       "tensor([1., 2., 3.])"
      ]
     },
     "execution_count": 4,
     "metadata": {},
     "output_type": "execute_result"
    }
   ],
   "source": [
    "import torch\n",
    "torch.save(torch.tensor([1., 2., 3.]), \"tensor.pt\")\n",
    "torch.load(\"tensor.pt\")"
   ]
  },
  {
   "cell_type": "code",
   "execution_count": 12,
   "metadata": {},
   "outputs": [],
   "source": [
    "import pandas as pd\n",
    "\n",
    "\n",
    "df = pd.read_csv(\"/home/ubuntu/MAPF/clusterLabelGen/scripts/scen2num_agent_df_0601.csv\")\n",
    "df = df.sample(frac=1).reset_index(drop=True)\n",
    "df.to_csv(\"/home/ubuntu/MAPF/clusterLabelGen/scripts/scen2num_agent_df_0601.csv\",index=False)\n"
   ]
  }
 ],
 "metadata": {
  "interpreter": {
   "hash": "5b2c14c5f2a3b21e6c2412c8196f5145870350e81c0b737cae3e5c60eb1e1eac"
  },
  "kernelspec": {
   "display_name": "Python 3.8.12 ('pytorch_p38')",
   "language": "python",
   "name": "python3"
  },
  "language_info": {
   "codemirror_mode": {
    "name": "ipython",
    "version": 3
   },
   "file_extension": ".py",
   "mimetype": "text/x-python",
   "name": "python",
   "nbconvert_exporter": "python",
   "pygments_lexer": "ipython3",
   "version": "3.8.12"
  },
  "orig_nbformat": 4
 },
 "nbformat": 4,
 "nbformat_minor": 2
}
